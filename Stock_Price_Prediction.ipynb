{
  "nbformat": 4,
  "nbformat_minor": 0,
  "metadata": {
    "accelerator": "GPU",
    "colab": {
      "name": "Stock-Price Prediction",
      "provenance": [],
      "mount_file_id": "1uOVtNJMu5bMjenMrpGQe2Rf0mNjDafAY",
      "authorship_tag": "ABX9TyNtOQTHfRr8b73soYfpaEW1",
      "include_colab_link": true
    },
    "kernelspec": {
      "display_name": "Python 3",
      "name": "python3"
    }
  },
  "cells": [
    {
      "cell_type": "markdown",
      "metadata": {
        "id": "view-in-github",
        "colab_type": "text"
      },
      "source": [
        "<a href=\"https://colab.research.google.com/github/ShreyPandit/StockPrice-Prediction/blob/main/Stock_Price_Prediction.ipynb\" target=\"_parent\"><img src=\"https://colab.research.google.com/assets/colab-badge.svg\" alt=\"Open In Colab\"/></a>"
      ]
    },
    {
      "cell_type": "markdown",
      "metadata": {
        "id": "DcTbJU06DkNi"
      },
      "source": [
        "Importing the libraries"
      ]
    },
    {
      "cell_type": "code",
      "metadata": {
        "id": "7JvifmQInh3o"
      },
      "source": [
        "import pandas as pd \n",
        "import numpy as np\n",
        "from scipy.stats import norm\n",
        "import datetime\n",
        "import pandas_datareader.data as web\n",
        "from pandas import Series, DataFrame\n",
        "\n",
        "start = datetime.datetime(2000,1, 1)\n",
        "end = datetime.datetime(2020, 12, 23)\n",
        "\n",
        "import numpy as np\n",
        "import pandas as pd\n",
        "from keras.models import Sequential\n",
        "from keras.layers import LSTM,Dense,Dropout\n",
        "import matplotlib.pyplot as plt\n",
        "import tensorflow as tf\n"
      ],
      "execution_count": 79,
      "outputs": []
    },
    {
      "cell_type": "markdown",
      "metadata": {
        "id": "V86jVeBpDoqR"
      },
      "source": [
        "Defining the parameters"
      ]
    },
    {
      "cell_type": "code",
      "metadata": {
        "id": "Yh1rDnkdoImd"
      },
      "source": [
        "# Lookback day is the number of days the model will refer to for predicting the value\n",
        "look_back = 90\n",
        "# forward day is the number of days for prediction\n",
        "foward_days = 5"
      ],
      "execution_count": 2,
      "outputs": []
    },
    {
      "cell_type": "code",
      "metadata": {
        "colab": {
          "base_uri": "https://localhost:8080/",
          "height": 431
        },
        "id": "uGSsiDlrnqRt",
        "outputId": "0c1126a1-2b79-4a6d-88ed-e505bf9a84fa"
      },
      "source": [
        "# Importing the datavalue\n",
        "df= web.DataReader('^NSEI',\"yahoo\",start,end)\n",
        "df"
      ],
      "execution_count": 11,
      "outputs": [
        {
          "output_type": "execute_result",
          "data": {
            "text/html": [
              "<div>\n",
              "<style scoped>\n",
              "    .dataframe tbody tr th:only-of-type {\n",
              "        vertical-align: middle;\n",
              "    }\n",
              "\n",
              "    .dataframe tbody tr th {\n",
              "        vertical-align: top;\n",
              "    }\n",
              "\n",
              "    .dataframe thead th {\n",
              "        text-align: right;\n",
              "    }\n",
              "</style>\n",
              "<table border=\"1\" class=\"dataframe\">\n",
              "  <thead>\n",
              "    <tr style=\"text-align: right;\">\n",
              "      <th></th>\n",
              "      <th>High</th>\n",
              "      <th>Low</th>\n",
              "      <th>Open</th>\n",
              "      <th>Close</th>\n",
              "      <th>Volume</th>\n",
              "      <th>Adj Close</th>\n",
              "    </tr>\n",
              "    <tr>\n",
              "      <th>Date</th>\n",
              "      <th></th>\n",
              "      <th></th>\n",
              "      <th></th>\n",
              "      <th></th>\n",
              "      <th></th>\n",
              "      <th></th>\n",
              "    </tr>\n",
              "  </thead>\n",
              "  <tbody>\n",
              "    <tr>\n",
              "      <th>2007-09-17</th>\n",
              "      <td>4549.049805</td>\n",
              "      <td>4482.850098</td>\n",
              "      <td>4518.450195</td>\n",
              "      <td>4494.649902</td>\n",
              "      <td>0.0</td>\n",
              "      <td>4494.649902</td>\n",
              "    </tr>\n",
              "    <tr>\n",
              "      <th>2007-09-18</th>\n",
              "      <td>4551.799805</td>\n",
              "      <td>4481.549805</td>\n",
              "      <td>4494.100098</td>\n",
              "      <td>4546.200195</td>\n",
              "      <td>0.0</td>\n",
              "      <td>4546.200195</td>\n",
              "    </tr>\n",
              "    <tr>\n",
              "      <th>2007-09-19</th>\n",
              "      <td>4739.000000</td>\n",
              "      <td>4550.250000</td>\n",
              "      <td>4550.250000</td>\n",
              "      <td>4732.350098</td>\n",
              "      <td>0.0</td>\n",
              "      <td>4732.350098</td>\n",
              "    </tr>\n",
              "    <tr>\n",
              "      <th>2007-09-20</th>\n",
              "      <td>4760.850098</td>\n",
              "      <td>4721.149902</td>\n",
              "      <td>4734.850098</td>\n",
              "      <td>4747.549805</td>\n",
              "      <td>0.0</td>\n",
              "      <td>4747.549805</td>\n",
              "    </tr>\n",
              "    <tr>\n",
              "      <th>2007-09-21</th>\n",
              "      <td>4855.700195</td>\n",
              "      <td>4733.700195</td>\n",
              "      <td>4752.950195</td>\n",
              "      <td>4837.549805</td>\n",
              "      <td>0.0</td>\n",
              "      <td>4837.549805</td>\n",
              "    </tr>\n",
              "    <tr>\n",
              "      <th>...</th>\n",
              "      <td>...</td>\n",
              "      <td>...</td>\n",
              "      <td>...</td>\n",
              "      <td>...</td>\n",
              "      <td>...</td>\n",
              "      <td>...</td>\n",
              "    </tr>\n",
              "    <tr>\n",
              "      <th>2020-12-18</th>\n",
              "      <td>13772.849609</td>\n",
              "      <td>13658.599609</td>\n",
              "      <td>13764.400391</td>\n",
              "      <td>13760.549805</td>\n",
              "      <td>519400.0</td>\n",
              "      <td>13760.549805</td>\n",
              "    </tr>\n",
              "    <tr>\n",
              "      <th>2020-12-21</th>\n",
              "      <td>13777.500000</td>\n",
              "      <td>13131.450195</td>\n",
              "      <td>13741.900391</td>\n",
              "      <td>13328.400391</td>\n",
              "      <td>687300.0</td>\n",
              "      <td>13328.400391</td>\n",
              "    </tr>\n",
              "    <tr>\n",
              "      <th>2020-12-22</th>\n",
              "      <td>13492.049805</td>\n",
              "      <td>13192.900391</td>\n",
              "      <td>13373.650391</td>\n",
              "      <td>13466.299805</td>\n",
              "      <td>696200.0</td>\n",
              "      <td>13466.299805</td>\n",
              "    </tr>\n",
              "    <tr>\n",
              "      <th>2020-12-23</th>\n",
              "      <td>13619.450195</td>\n",
              "      <td>13432.200195</td>\n",
              "      <td>13473.500000</td>\n",
              "      <td>13601.099609</td>\n",
              "      <td>458700.0</td>\n",
              "      <td>13601.099609</td>\n",
              "    </tr>\n",
              "    <tr>\n",
              "      <th>2020-12-24</th>\n",
              "      <td>13739.150391</td>\n",
              "      <td>13626.900391</td>\n",
              "      <td>13672.150391</td>\n",
              "      <td>13732.299805</td>\n",
              "      <td>0.0</td>\n",
              "      <td>13732.299805</td>\n",
              "    </tr>\n",
              "  </tbody>\n",
              "</table>\n",
              "<p>3244 rows × 6 columns</p>\n",
              "</div>"
            ],
            "text/plain": [
              "                    High           Low  ...    Volume     Adj Close\n",
              "Date                                    ...                        \n",
              "2007-09-17   4549.049805   4482.850098  ...       0.0   4494.649902\n",
              "2007-09-18   4551.799805   4481.549805  ...       0.0   4546.200195\n",
              "2007-09-19   4739.000000   4550.250000  ...       0.0   4732.350098\n",
              "2007-09-20   4760.850098   4721.149902  ...       0.0   4747.549805\n",
              "2007-09-21   4855.700195   4733.700195  ...       0.0   4837.549805\n",
              "...                  ...           ...  ...       ...           ...\n",
              "2020-12-18  13772.849609  13658.599609  ...  519400.0  13760.549805\n",
              "2020-12-21  13777.500000  13131.450195  ...  687300.0  13328.400391\n",
              "2020-12-22  13492.049805  13192.900391  ...  696200.0  13466.299805\n",
              "2020-12-23  13619.450195  13432.200195  ...  458700.0  13601.099609\n",
              "2020-12-24  13739.150391  13626.900391  ...       0.0  13732.299805\n",
              "\n",
              "[3244 rows x 6 columns]"
            ]
          },
          "metadata": {
            "tags": []
          },
          "execution_count": 11
        }
      ]
    },
    {
      "cell_type": "code",
      "metadata": {
        "colab": {
          "base_uri": "https://localhost:8080/",
          "height": 431
        },
        "id": "baTaJurpn0VB",
        "outputId": "ae52a661-bead-4a3c-d328-b33cfe7a6b03"
      },
      "source": [
        "# Droping the Open,Volume and Adj close values and keeping just the high, low and close values\n",
        "df = df.drop('Open',axis=1)\n",
        "df = df.drop('Volume',axis=1)\n",
        "df = df.drop('Adj Close',axis=1)\n",
        "df"
      ],
      "execution_count": 12,
      "outputs": [
        {
          "output_type": "execute_result",
          "data": {
            "text/html": [
              "<div>\n",
              "<style scoped>\n",
              "    .dataframe tbody tr th:only-of-type {\n",
              "        vertical-align: middle;\n",
              "    }\n",
              "\n",
              "    .dataframe tbody tr th {\n",
              "        vertical-align: top;\n",
              "    }\n",
              "\n",
              "    .dataframe thead th {\n",
              "        text-align: right;\n",
              "    }\n",
              "</style>\n",
              "<table border=\"1\" class=\"dataframe\">\n",
              "  <thead>\n",
              "    <tr style=\"text-align: right;\">\n",
              "      <th></th>\n",
              "      <th>High</th>\n",
              "      <th>Low</th>\n",
              "      <th>Close</th>\n",
              "    </tr>\n",
              "    <tr>\n",
              "      <th>Date</th>\n",
              "      <th></th>\n",
              "      <th></th>\n",
              "      <th></th>\n",
              "    </tr>\n",
              "  </thead>\n",
              "  <tbody>\n",
              "    <tr>\n",
              "      <th>2007-09-17</th>\n",
              "      <td>4549.049805</td>\n",
              "      <td>4482.850098</td>\n",
              "      <td>4494.649902</td>\n",
              "    </tr>\n",
              "    <tr>\n",
              "      <th>2007-09-18</th>\n",
              "      <td>4551.799805</td>\n",
              "      <td>4481.549805</td>\n",
              "      <td>4546.200195</td>\n",
              "    </tr>\n",
              "    <tr>\n",
              "      <th>2007-09-19</th>\n",
              "      <td>4739.000000</td>\n",
              "      <td>4550.250000</td>\n",
              "      <td>4732.350098</td>\n",
              "    </tr>\n",
              "    <tr>\n",
              "      <th>2007-09-20</th>\n",
              "      <td>4760.850098</td>\n",
              "      <td>4721.149902</td>\n",
              "      <td>4747.549805</td>\n",
              "    </tr>\n",
              "    <tr>\n",
              "      <th>2007-09-21</th>\n",
              "      <td>4855.700195</td>\n",
              "      <td>4733.700195</td>\n",
              "      <td>4837.549805</td>\n",
              "    </tr>\n",
              "    <tr>\n",
              "      <th>...</th>\n",
              "      <td>...</td>\n",
              "      <td>...</td>\n",
              "      <td>...</td>\n",
              "    </tr>\n",
              "    <tr>\n",
              "      <th>2020-12-18</th>\n",
              "      <td>13772.849609</td>\n",
              "      <td>13658.599609</td>\n",
              "      <td>13760.549805</td>\n",
              "    </tr>\n",
              "    <tr>\n",
              "      <th>2020-12-21</th>\n",
              "      <td>13777.500000</td>\n",
              "      <td>13131.450195</td>\n",
              "      <td>13328.400391</td>\n",
              "    </tr>\n",
              "    <tr>\n",
              "      <th>2020-12-22</th>\n",
              "      <td>13492.049805</td>\n",
              "      <td>13192.900391</td>\n",
              "      <td>13466.299805</td>\n",
              "    </tr>\n",
              "    <tr>\n",
              "      <th>2020-12-23</th>\n",
              "      <td>13619.450195</td>\n",
              "      <td>13432.200195</td>\n",
              "      <td>13601.099609</td>\n",
              "    </tr>\n",
              "    <tr>\n",
              "      <th>2020-12-24</th>\n",
              "      <td>13739.150391</td>\n",
              "      <td>13626.900391</td>\n",
              "      <td>13732.299805</td>\n",
              "    </tr>\n",
              "  </tbody>\n",
              "</table>\n",
              "<p>3244 rows × 3 columns</p>\n",
              "</div>"
            ],
            "text/plain": [
              "                    High           Low         Close\n",
              "Date                                                \n",
              "2007-09-17   4549.049805   4482.850098   4494.649902\n",
              "2007-09-18   4551.799805   4481.549805   4546.200195\n",
              "2007-09-19   4739.000000   4550.250000   4732.350098\n",
              "2007-09-20   4760.850098   4721.149902   4747.549805\n",
              "2007-09-21   4855.700195   4733.700195   4837.549805\n",
              "...                  ...           ...           ...\n",
              "2020-12-18  13772.849609  13658.599609  13760.549805\n",
              "2020-12-21  13777.500000  13131.450195  13328.400391\n",
              "2020-12-22  13492.049805  13192.900391  13466.299805\n",
              "2020-12-23  13619.450195  13432.200195  13601.099609\n",
              "2020-12-24  13739.150391  13626.900391  13732.299805\n",
              "\n",
              "[3244 rows x 3 columns]"
            ]
          },
          "metadata": {
            "tags": []
          },
          "execution_count": 12
        }
      ]
    },
    {
      "cell_type": "code",
      "metadata": {
        "colab": {
          "base_uri": "https://localhost:8080/",
          "height": 225
        },
        "id": "YAOamssdpTlJ",
        "outputId": "cefe1a43-4448-47da-aad5-71a632e4c04a"
      },
      "source": [
        "# changing the type of file and few item type modifications\n",
        "df.to_csv(\"Data.csv\")\n",
        "df = pd.read_csv('Data.csv')\n",
        "df['Date'] = pd.to_datetime(df['Date'])\n",
        "df.set_index('Date', inplace=True)\n",
        "\n",
        "df.head()"
      ],
      "execution_count": 15,
      "outputs": [
        {
          "output_type": "execute_result",
          "data": {
            "text/html": [
              "<div>\n",
              "<style scoped>\n",
              "    .dataframe tbody tr th:only-of-type {\n",
              "        vertical-align: middle;\n",
              "    }\n",
              "\n",
              "    .dataframe tbody tr th {\n",
              "        vertical-align: top;\n",
              "    }\n",
              "\n",
              "    .dataframe thead th {\n",
              "        text-align: right;\n",
              "    }\n",
              "</style>\n",
              "<table border=\"1\" class=\"dataframe\">\n",
              "  <thead>\n",
              "    <tr style=\"text-align: right;\">\n",
              "      <th></th>\n",
              "      <th>High</th>\n",
              "      <th>Low</th>\n",
              "      <th>Close</th>\n",
              "    </tr>\n",
              "    <tr>\n",
              "      <th>Date</th>\n",
              "      <th></th>\n",
              "      <th></th>\n",
              "      <th></th>\n",
              "    </tr>\n",
              "  </thead>\n",
              "  <tbody>\n",
              "    <tr>\n",
              "      <th>2007-09-17</th>\n",
              "      <td>4549.049805</td>\n",
              "      <td>4482.850098</td>\n",
              "      <td>4494.649902</td>\n",
              "    </tr>\n",
              "    <tr>\n",
              "      <th>2007-09-18</th>\n",
              "      <td>4551.799805</td>\n",
              "      <td>4481.549805</td>\n",
              "      <td>4546.200195</td>\n",
              "    </tr>\n",
              "    <tr>\n",
              "      <th>2007-09-19</th>\n",
              "      <td>4739.000000</td>\n",
              "      <td>4550.250000</td>\n",
              "      <td>4732.350098</td>\n",
              "    </tr>\n",
              "    <tr>\n",
              "      <th>2007-09-20</th>\n",
              "      <td>4760.850098</td>\n",
              "      <td>4721.149902</td>\n",
              "      <td>4747.549805</td>\n",
              "    </tr>\n",
              "    <tr>\n",
              "      <th>2007-09-21</th>\n",
              "      <td>4855.700195</td>\n",
              "      <td>4733.700195</td>\n",
              "      <td>4837.549805</td>\n",
              "    </tr>\n",
              "  </tbody>\n",
              "</table>\n",
              "</div>"
            ],
            "text/plain": [
              "                   High          Low        Close\n",
              "Date                                             \n",
              "2007-09-17  4549.049805  4482.850098  4494.649902\n",
              "2007-09-18  4551.799805  4481.549805  4546.200195\n",
              "2007-09-19  4739.000000  4550.250000  4732.350098\n",
              "2007-09-20  4760.850098  4721.149902  4747.549805\n",
              "2007-09-21  4855.700195  4733.700195  4837.549805"
            ]
          },
          "metadata": {
            "tags": []
          },
          "execution_count": 15
        }
      ]
    },
    {
      "cell_type": "code",
      "metadata": {
        "colab": {
          "base_uri": "https://localhost:8080/",
          "height": 592
        },
        "id": "TVAOdIvdpVou",
        "outputId": "35957ba3-ce1d-4a42-88ca-88dd34820100"
      },
      "source": [
        "# visualizing the Chart\n",
        "plt.figure(figsize = (15,10))\n",
        "plt.plot(df)\n",
        "plt.show()"
      ],
      "execution_count": 16,
      "outputs": [
        {
          "output_type": "display_data",
          "data": {
            "image/png": "[encoded data removed]",
            "text/plain": [
              "<Figure size 1080x720 with 1 Axes>"
            ]
          },
          "metadata": {
            "tags": [],
            "needs_background": "light"
          }
        }
      ]
    },
    {
      "cell_type": "code",
      "metadata": {
        "colab": {
          "base_uri": "https://localhost:8080/"
        },
        "id": "Gzuuge2Yph-V",
        "outputId": "739a6710-f403-4275-b227-b56655f2434b"
      },
      "source": [
        "# Reshaping the viewing the value\n",
        "array = df.values.reshape(df.shape[0],3)\n",
        "array[:5]"
      ],
      "execution_count": 20,
      "outputs": [
        {
          "output_type": "execute_result",
          "data": {
            "text/plain": [
              "array([[4549.04980469, 4482.85009766, 4494.64990234],\n",
              "       [4551.79980469, 4481.54980469, 4546.20019531],\n",
              "       [4739.        , 4550.25      , 4732.35009766],\n",
              "       [4760.85009766, 4721.14990234, 4747.54980469],\n",
              "       [4855.70019531, 4733.70019531, 4837.54980469]])"
            ]
          },
          "metadata": {
            "tags": []
          },
          "execution_count": 20
        }
      ]
    },
    {
      "cell_type": "code",
      "metadata": {
        "colab": {
          "base_uri": "https://localhost:8080/"
        },
        "id": "Q-ae-xs-pofd",
        "outputId": "eac53454-909e-40a1-9251-5d3eabcfa6bf"
      },
      "source": [
        "# Scaling the price values.\n",
        "from sklearn.preprocessing import MinMaxScaler\n",
        "scl = MinMaxScaler()\n",
        "array = scl.fit_transform(array)\n",
        "array[:5]"
      ],
      "execution_count": 21,
      "outputs": [
        {
          "output_type": "execute_result",
          "data": {
            "text/plain": [
              "array([[0.17545699, 0.19526654, 0.17536388],\n",
              "       [0.1757027 , 0.19515269, 0.1799517 ],\n",
              "       [0.19242865, 0.20116805, 0.19651846],\n",
              "       [0.19438091, 0.21613196, 0.19787118],\n",
              "       [0.20285557, 0.21723086, 0.2058809 ]])"
            ]
          },
          "metadata": {
            "tags": []
          },
          "execution_count": 21
        }
      ]
    },
    {
      "cell_type": "code",
      "metadata": {
        "id": "kIEsXn4bpqpb"
      },
      "source": [
        "# number of period is the number of segments in which the model would learn\n",
        "num_periods = 20\n",
        "\n",
        "division = len(array) - num_periods*foward_days\n",
        "array_test = array[division-look_back:]\n",
        "array_train = array[:division]"
      ],
      "execution_count": 22,
      "outputs": []
    },
    {
      "cell_type": "code",
      "metadata": {
        "id": "f_2yCU0Mpt9B"
      },
      "source": [
        "# Pre-processing the data, creating an array which is suitable for the input\n",
        "def processData(data, look_back, foward_days,jump=1):\n",
        "    X,Y = [],[]\n",
        "    for i in range(0,len(data) -look_back -foward_days +1, jump):\n",
        "        X.append(data[i:(i+look_back)])\n",
        "        Y.append(data[(i+look_back):(i+look_back+foward_days)])\n",
        "    return np.array(X),np.array(Y)\n"
      ],
      "execution_count": 23,
      "outputs": []
    },
    {
      "cell_type": "code",
      "metadata": {
        "id": "0YHU1qDopwL5"
      },
      "source": [
        "# Spliting the training and testing values.\n",
        "X_test,y_test = processData(array_test,look_back,foward_days,foward_days)\n",
        "y_test = np.array([list(a.ravel()) for a in y_test])\n",
        "\n",
        "X,y = processData(array_train,look_back,foward_days)\n",
        "y = np.array([list(a.ravel()) for a in y])\n",
        "\n",
        "from sklearn.model_selection import train_test_split\n",
        "X_train, X_validate, y_train, y_validate = train_test_split(X, y, test_size=0.20, random_state=42)\n"
      ],
      "execution_count": 24,
      "outputs": []
    },
    {
      "cell_type": "code",
      "metadata": {
        "colab": {
          "base_uri": "https://localhost:8080/"
        },
        "id": "-5RNmNAzp_4q",
        "outputId": "24ee3e53-bb01-4b70-ad19-e398b3395649"
      },
      "source": [
        "#Displaying the shapes of inputs\n",
        "print(X_train.shape)\n",
        "print(X_validate.shape)\n",
        "print(X_test.shape)\n",
        "print(y_train.shape)\n",
        "print(y_validate.shape)\n",
        "print(y_test.shape)\n"
      ],
      "execution_count": 25,
      "outputs": [
        {
          "output_type": "stream",
          "text": [
            "(2440, 90, 3)\n",
            "(610, 90, 3)\n",
            "(20, 90, 3)\n",
            "(2440, 15)\n",
            "(610, 15)\n",
            "(20, 15)\n"
          ],
          "name": "stdout"
        }
      ]
    },
    {
      "cell_type": "code",
      "metadata": {
        "colab": {
          "base_uri": "https://localhost:8080/"
        },
        "id": "DM2J9rSgqd7r",
        "outputId": "6c99bebd-29ce-48df-970e-517c2b6e8b5c"
      },
      "source": [
        "# Defining the model \n",
        "NUM_NEURONS_FirstLayer = 256\n",
        "NUM_NEURONS_SecondLayer = 128\n",
        "NUM_NEURONS_ThirdLayer = 64\n",
        "NUM_NEURONS_FourthLayer = 32\n",
        "EPOCHS = 150\n",
        "\n",
        "\n",
        "model = Sequential()\n",
        "model.add(LSTM(NUM_NEURONS_FirstLayer,input_shape=(look_back,3), return_sequences=True))\n",
        "model.add(Dropout(0.2))\n",
        "model.add(LSTM(NUM_NEURONS_SecondLayer,return_sequences=True))\n",
        "model.add(Dropout(0.2))\n",
        "model.add(LSTM(NUM_NEURONS_ThirdLayer,return_sequences=True))\n",
        "model.add(LSTM(NUM_NEURONS_FourthLayer))\n",
        "model.add(Dense(64))\n",
        "model.add(Dense(foward_days*3))\n",
        "model.compile(loss='mean_squared_error', optimizer='adam')\n",
        "\n",
        "model.summary()"
      ],
      "execution_count": 53,
      "outputs": [
        {
          "output_type": "stream",
          "text": [
            "Model: \"sequential_7\"\n",
            "_________________________________________________________________\n",
            "Layer (type)                 Output Shape              Param #   \n",
            "=================================================================\n",
            "lstm_25 (LSTM)               (None, 90, 256)           266240    \n",
            "_________________________________________________________________\n",
            "dropout_10 (Dropout)         (None, 90, 256)           0         \n",
            "_________________________________________________________________\n",
            "lstm_26 (LSTM)               (None, 90, 128)           197120    \n",
            "_________________________________________________________________\n",
            "dropout_11 (Dropout)         (None, 90, 128)           0         \n",
            "_________________________________________________________________\n",
            "lstm_27 (LSTM)               (None, 90, 64)            49408     \n",
            "_________________________________________________________________\n",
            "lstm_28 (LSTM)               (None, 32)                12416     \n",
            "_________________________________________________________________\n",
            "dense_12 (Dense)             (None, 64)                2112      \n",
            "_________________________________________________________________\n",
            "dense_13 (Dense)             (None, 15)                975       \n",
            "=================================================================\n",
            "Total params: 528,271\n",
            "Trainable params: 528,271\n",
            "Non-trainable params: 0\n",
            "_________________________________________________________________\n"
          ],
          "name": "stdout"
        }
      ]
    },
    {
      "cell_type": "code",
      "metadata": {
        "id": "EDJ_dQzI6fBW"
      },
      "source": [
        "# Creating a callback of model checkpoint to save all the values\r\n",
        "model_checkpoint_callback = tf.keras.callbacks.ModelCheckpoint(\r\n",
        "    filepath='./',\r\n",
        "    save_weights_only=True,\r\n",
        "    monitor='val_loss',\r\n",
        "    mode='max',\r\n",
        "    save_best_only=True)"
      ],
      "execution_count": 54,
      "outputs": []
    },
    {
      "cell_type": "code",
      "metadata": {
        "id": "5dt1MmfA6fHy"
      },
      "source": [
        "# Reducing the LR incase the loss stabalizes for some epochs\r\n",
        "reduce_lr = tf.keras.callbacks.ReduceLROnPlateau(monitor='val_loss', factor=0.2,\r\n",
        "                              patience=5, min_lr=0.001)"
      ],
      "execution_count": 55,
      "outputs": []
    },
    {
      "cell_type": "code",
      "metadata": {
        "colab": {
          "base_uri": "https://localhost:8080/"
        },
        "id": "3ShoJIhuqwyC",
        "outputId": "0041e119-d23c-4cad-f6d4-4a1e1c38c949"
      },
      "source": [
        "# fitting the model\r\n",
        "history = model.fit(X_train,y_train,epochs=EPOCHS,validation_data=(X_validate,y_validate),shuffle=True,batch_size=8, verbose=1,callbacks = [model_checkpoint_callback,reduce_lr])"
      ],
      "execution_count": 56,
      "outputs": [
        {
          "output_type": "stream",
          "text": [
            "Epoch 1/150\n",
            "305/305 [==============================] - 10s 22ms/step - loss: 0.0209 - val_loss: 0.0025\n",
            "Epoch 2/150\n",
            "305/305 [==============================] - 6s 19ms/step - loss: 0.0012 - val_loss: 5.5612e-04\n",
            "Epoch 3/150\n",
            "305/305 [==============================] - 5s 17ms/step - loss: 9.8187e-04 - val_loss: 8.6570e-04\n",
            "Epoch 4/150\n",
            "305/305 [==============================] - 5s 17ms/step - loss: 8.2656e-04 - val_loss: 5.3949e-04\n",
            "Epoch 5/150\n",
            "305/305 [==============================] - 5s 17ms/step - loss: 7.8054e-04 - val_loss: 0.0015\n",
            "Epoch 6/150\n",
            "305/305 [==============================] - 6s 18ms/step - loss: 6.8328e-04 - val_loss: 6.1179e-04\n",
            "Epoch 7/150\n",
            "305/305 [==============================] - 6s 18ms/step - loss: 7.0355e-04 - val_loss: 4.8754e-04\n",
            "Epoch 8/150\n",
            "305/305 [==============================] - 6s 18ms/step - loss: 7.5700e-04 - val_loss: 5.6737e-04\n",
            "Epoch 9/150\n",
            "305/305 [==============================] - 5s 17ms/step - loss: 6.7607e-04 - val_loss: 7.2502e-04\n",
            "Epoch 10/150\n",
            "305/305 [==============================] - 5s 18ms/step - loss: 7.1523e-04 - val_loss: 2.8635e-04\n",
            "Epoch 11/150\n",
            "305/305 [==============================] - 5s 18ms/step - loss: 4.9313e-04 - val_loss: 9.6212e-04\n",
            "Epoch 12/150\n",
            "305/305 [==============================] - 5s 18ms/step - loss: 6.7395e-04 - val_loss: 2.8965e-04\n",
            "Epoch 13/150\n",
            "305/305 [==============================] - 5s 18ms/step - loss: 5.1461e-04 - val_loss: 2.6290e-04\n",
            "Epoch 14/150\n",
            "305/305 [==============================] - 6s 18ms/step - loss: 5.1316e-04 - val_loss: 6.2109e-04\n",
            "Epoch 15/150\n",
            "305/305 [==============================] - 5s 17ms/step - loss: 5.4477e-04 - val_loss: 3.9988e-04\n",
            "Epoch 16/150\n",
            "305/305 [==============================] - 6s 18ms/step - loss: 4.4620e-04 - val_loss: 2.9397e-04\n",
            "Epoch 17/150\n",
            "305/305 [==============================] - 5s 18ms/step - loss: 5.2444e-04 - val_loss: 8.0810e-04\n",
            "Epoch 18/150\n",
            "305/305 [==============================] - 5s 17ms/step - loss: 5.7156e-04 - val_loss: 3.4989e-04\n",
            "Epoch 19/150\n",
            "305/305 [==============================] - 6s 18ms/step - loss: 4.8460e-04 - val_loss: 3.2966e-04\n",
            "Epoch 20/150\n",
            "305/305 [==============================] - 5s 18ms/step - loss: 3.7837e-04 - val_loss: 5.0909e-04\n",
            "Epoch 21/150\n",
            "305/305 [==============================] - 6s 19ms/step - loss: 4.4633e-04 - val_loss: 3.0367e-04\n",
            "Epoch 22/150\n",
            "305/305 [==============================] - 5s 18ms/step - loss: 4.3461e-04 - val_loss: 2.9342e-04\n",
            "Epoch 23/150\n",
            "305/305 [==============================] - 6s 18ms/step - loss: 3.7527e-04 - val_loss: 7.5126e-04\n",
            "Epoch 24/150\n",
            "305/305 [==============================] - 5s 18ms/step - loss: 3.9972e-04 - val_loss: 5.9505e-04\n",
            "Epoch 25/150\n",
            "305/305 [==============================] - 6s 18ms/step - loss: 4.2770e-04 - val_loss: 2.5944e-04\n",
            "Epoch 26/150\n",
            "305/305 [==============================] - 5s 18ms/step - loss: 4.2749e-04 - val_loss: 2.1711e-04\n",
            "Epoch 27/150\n",
            "305/305 [==============================] - 5s 18ms/step - loss: 3.6986e-04 - val_loss: 0.0014\n",
            "Epoch 28/150\n",
            "305/305 [==============================] - 5s 18ms/step - loss: 6.4082e-04 - val_loss: 2.4487e-04\n",
            "Epoch 29/150\n",
            "305/305 [==============================] - 5s 18ms/step - loss: 4.5018e-04 - val_loss: 2.9522e-04\n",
            "Epoch 30/150\n",
            "305/305 [==============================] - 5s 17ms/step - loss: 4.2781e-04 - val_loss: 2.8160e-04\n",
            "Epoch 31/150\n",
            "305/305 [==============================] - 6s 18ms/step - loss: 3.4620e-04 - val_loss: 3.1121e-04\n",
            "Epoch 32/150\n",
            "305/305 [==============================] - 6s 18ms/step - loss: 3.3683e-04 - val_loss: 3.4428e-04\n",
            "Epoch 33/150\n",
            "305/305 [==============================] - 6s 18ms/step - loss: 3.4407e-04 - val_loss: 2.1285e-04\n",
            "Epoch 34/150\n",
            "305/305 [==============================] - 6s 18ms/step - loss: 3.3533e-04 - val_loss: 2.2858e-04\n",
            "Epoch 35/150\n",
            "305/305 [==============================] - 5s 18ms/step - loss: 3.5823e-04 - val_loss: 3.9456e-04\n",
            "Epoch 36/150\n",
            "305/305 [==============================] - 5s 18ms/step - loss: 3.4288e-04 - val_loss: 2.9564e-04\n",
            "Epoch 37/150\n",
            "305/305 [==============================] - 6s 19ms/step - loss: 3.3029e-04 - val_loss: 3.6177e-04\n",
            "Epoch 38/150\n",
            "305/305 [==============================] - 6s 18ms/step - loss: 3.1946e-04 - val_loss: 2.0658e-04\n",
            "Epoch 39/150\n",
            "305/305 [==============================] - 5s 18ms/step - loss: 4.1345e-04 - val_loss: 3.2564e-04\n",
            "Epoch 40/150\n",
            "305/305 [==============================] - 5s 18ms/step - loss: 2.7956e-04 - val_loss: 2.3766e-04\n",
            "Epoch 41/150\n",
            "305/305 [==============================] - 5s 18ms/step - loss: 3.5535e-04 - val_loss: 2.1765e-04\n",
            "Epoch 42/150\n",
            "305/305 [==============================] - 5s 18ms/step - loss: 3.2402e-04 - val_loss: 0.0011\n",
            "Epoch 43/150\n",
            "305/305 [==============================] - 6s 18ms/step - loss: 4.1838e-04 - val_loss: 4.6745e-04\n",
            "Epoch 44/150\n",
            "305/305 [==============================] - 6s 18ms/step - loss: 3.3853e-04 - val_loss: 2.7017e-04\n",
            "Epoch 45/150\n",
            "305/305 [==============================] - 6s 19ms/step - loss: 3.2436e-04 - val_loss: 4.2286e-04\n",
            "Epoch 46/150\n",
            "305/305 [==============================] - 6s 19ms/step - loss: 3.7127e-04 - val_loss: 2.1200e-04\n",
            "Epoch 47/150\n",
            "305/305 [==============================] - 6s 18ms/step - loss: 3.0143e-04 - val_loss: 2.4246e-04\n",
            "Epoch 48/150\n",
            "305/305 [==============================] - 5s 18ms/step - loss: 3.3450e-04 - val_loss: 2.2031e-04\n",
            "Epoch 49/150\n",
            "305/305 [==============================] - 6s 18ms/step - loss: 2.9829e-04 - val_loss: 1.8813e-04\n",
            "Epoch 50/150\n",
            "305/305 [==============================] - 5s 18ms/step - loss: 4.0773e-04 - val_loss: 2.6546e-04\n",
            "Epoch 51/150\n",
            "305/305 [==============================] - 5s 18ms/step - loss: 3.1472e-04 - val_loss: 3.1353e-04\n",
            "Epoch 52/150\n",
            "305/305 [==============================] - 6s 18ms/step - loss: 3.4451e-04 - val_loss: 5.3076e-04\n",
            "Epoch 53/150\n",
            "305/305 [==============================] - 6s 18ms/step - loss: 3.3142e-04 - val_loss: 2.9887e-04\n",
            "Epoch 54/150\n",
            "305/305 [==============================] - 6s 19ms/step - loss: 2.9696e-04 - val_loss: 2.2818e-04\n",
            "Epoch 55/150\n",
            "305/305 [==============================] - 6s 18ms/step - loss: 2.9183e-04 - val_loss: 1.9300e-04\n",
            "Epoch 56/150\n",
            "305/305 [==============================] - 5s 18ms/step - loss: 3.3214e-04 - val_loss: 2.6765e-04\n",
            "Epoch 57/150\n",
            "305/305 [==============================] - 6s 18ms/step - loss: 3.3273e-04 - val_loss: 4.9508e-04\n",
            "Epoch 58/150\n",
            "305/305 [==============================] - 5s 18ms/step - loss: 3.6260e-04 - val_loss: 2.7630e-04\n",
            "Epoch 59/150\n",
            "305/305 [==============================] - 6s 18ms/step - loss: 2.8098e-04 - val_loss: 2.5125e-04\n",
            "Epoch 60/150\n",
            "305/305 [==============================] - 6s 18ms/step - loss: 2.9909e-04 - val_loss: 1.7721e-04\n",
            "Epoch 61/150\n",
            "305/305 [==============================] - 5s 18ms/step - loss: 2.8325e-04 - val_loss: 1.9531e-04\n",
            "Epoch 62/150\n",
            "305/305 [==============================] - 5s 18ms/step - loss: 2.7610e-04 - val_loss: 2.3169e-04\n",
            "Epoch 63/150\n",
            "305/305 [==============================] - 6s 18ms/step - loss: 2.6964e-04 - val_loss: 2.6787e-04\n",
            "Epoch 64/150\n",
            "305/305 [==============================] - 6s 18ms/step - loss: 3.0444e-04 - val_loss: 2.3436e-04\n",
            "Epoch 65/150\n",
            "305/305 [==============================] - 5s 18ms/step - loss: 2.6241e-04 - val_loss: 3.5490e-04\n",
            "Epoch 66/150\n",
            "305/305 [==============================] - 6s 18ms/step - loss: 0.0052 - val_loss: 0.0057\n",
            "Epoch 67/150\n",
            "305/305 [==============================] - 6s 18ms/step - loss: 0.0028 - val_loss: 0.0012\n",
            "Epoch 68/150\n",
            "305/305 [==============================] - 6s 19ms/step - loss: 0.0014 - val_loss: 0.0015\n",
            "Epoch 69/150\n",
            "305/305 [==============================] - 6s 19ms/step - loss: 0.0010 - val_loss: 0.0012\n",
            "Epoch 70/150\n",
            "305/305 [==============================] - 6s 19ms/step - loss: 0.0012 - val_loss: 7.5982e-04\n",
            "Epoch 71/150\n",
            "305/305 [==============================] - 6s 18ms/step - loss: 9.4251e-04 - val_loss: 0.0011\n",
            "Epoch 72/150\n",
            "305/305 [==============================] - 5s 18ms/step - loss: 0.0010 - val_loss: 8.9944e-04\n",
            "Epoch 73/150\n",
            "305/305 [==============================] - 6s 18ms/step - loss: 9.4014e-04 - val_loss: 5.2036e-04\n",
            "Epoch 74/150\n",
            "305/305 [==============================] - 6s 19ms/step - loss: 7.1406e-04 - val_loss: 9.4172e-04\n",
            "Epoch 75/150\n",
            "305/305 [==============================] - 6s 19ms/step - loss: 9.0381e-04 - val_loss: 7.0067e-04\n",
            "Epoch 76/150\n",
            "305/305 [==============================] - 6s 18ms/step - loss: 9.5677e-04 - val_loss: 4.5427e-04\n",
            "Epoch 77/150\n",
            "305/305 [==============================] - 5s 18ms/step - loss: 8.0773e-04 - val_loss: 4.5243e-04\n",
            "Epoch 78/150\n",
            "305/305 [==============================] - 6s 18ms/step - loss: 7.1302e-04 - val_loss: 3.8564e-04\n",
            "Epoch 79/150\n",
            "305/305 [==============================] - 5s 18ms/step - loss: 7.3244e-04 - val_loss: 4.1202e-04\n",
            "Epoch 80/150\n",
            "305/305 [==============================] - 6s 18ms/step - loss: 8.8049e-04 - val_loss: 5.3867e-04\n",
            "Epoch 81/150\n",
            "305/305 [==============================] - 6s 18ms/step - loss: 6.6707e-04 - val_loss: 3.7238e-04\n",
            "Epoch 82/150\n",
            "305/305 [==============================] - 6s 19ms/step - loss: 6.3849e-04 - val_loss: 6.2115e-04\n",
            "Epoch 83/150\n",
            "305/305 [==============================] - 6s 19ms/step - loss: 5.9595e-04 - val_loss: 3.6962e-04\n",
            "Epoch 84/150\n",
            "305/305 [==============================] - 6s 18ms/step - loss: 6.0321e-04 - val_loss: 8.8708e-04\n",
            "Epoch 85/150\n",
            "305/305 [==============================] - 6s 18ms/step - loss: 7.1252e-04 - val_loss: 4.6238e-04\n",
            "Epoch 86/150\n",
            "305/305 [==============================] - 6s 18ms/step - loss: 5.2571e-04 - val_loss: 6.4874e-04\n",
            "Epoch 87/150\n",
            "305/305 [==============================] - 5s 18ms/step - loss: 6.5134e-04 - val_loss: 4.8630e-04\n",
            "Epoch 88/150\n",
            "305/305 [==============================] - 6s 19ms/step - loss: 6.7097e-04 - val_loss: 6.7992e-04\n",
            "Epoch 89/150\n",
            "305/305 [==============================] - 6s 19ms/step - loss: 6.4221e-04 - val_loss: 0.0011\n",
            "Epoch 90/150\n",
            "305/305 [==============================] - 6s 19ms/step - loss: 5.6277e-04 - val_loss: 5.8479e-04\n",
            "Epoch 91/150\n",
            "305/305 [==============================] - 5s 18ms/step - loss: 5.3636e-04 - val_loss: 3.7342e-04\n",
            "Epoch 92/150\n",
            "305/305 [==============================] - 6s 19ms/step - loss: 5.6293e-04 - val_loss: 3.3330e-04\n",
            "Epoch 93/150\n",
            "305/305 [==============================] - 5s 17ms/step - loss: 4.6489e-04 - val_loss: 3.2799e-04\n",
            "Epoch 94/150\n",
            "305/305 [==============================] - 6s 19ms/step - loss: 4.7329e-04 - val_loss: 3.8536e-04\n",
            "Epoch 95/150\n",
            "305/305 [==============================] - 6s 19ms/step - loss: 3.9320e-04 - val_loss: 5.1019e-04\n",
            "Epoch 96/150\n",
            "305/305 [==============================] - 6s 18ms/step - loss: 4.6671e-04 - val_loss: 3.4220e-04\n",
            "Epoch 97/150\n",
            "305/305 [==============================] - 5s 18ms/step - loss: 4.4158e-04 - val_loss: 4.4461e-04\n",
            "Epoch 98/150\n",
            "305/305 [==============================] - 6s 19ms/step - loss: 4.4745e-04 - val_loss: 4.0796e-04\n",
            "Epoch 99/150\n",
            "305/305 [==============================] - 5s 18ms/step - loss: 4.6085e-04 - val_loss: 4.1089e-04\n",
            "Epoch 100/150\n",
            "305/305 [==============================] - 5s 17ms/step - loss: 5.4391e-04 - val_loss: 3.0648e-04\n",
            "Epoch 101/150\n",
            "305/305 [==============================] - 5s 18ms/step - loss: 4.0150e-04 - val_loss: 3.5099e-04\n",
            "Epoch 102/150\n",
            "305/305 [==============================] - 5s 18ms/step - loss: 4.9747e-04 - val_loss: 5.1688e-04\n",
            "Epoch 103/150\n",
            "305/305 [==============================] - 5s 18ms/step - loss: 4.5250e-04 - val_loss: 3.8767e-04\n",
            "Epoch 104/150\n",
            "305/305 [==============================] - 6s 19ms/step - loss: 4.1424e-04 - val_loss: 2.6654e-04\n",
            "Epoch 105/150\n",
            "305/305 [==============================] - 6s 19ms/step - loss: 3.9235e-04 - val_loss: 4.1928e-04\n",
            "Epoch 106/150\n",
            "305/305 [==============================] - 6s 19ms/step - loss: 4.3693e-04 - val_loss: 3.0130e-04\n",
            "Epoch 107/150\n",
            "305/305 [==============================] - 6s 19ms/step - loss: 4.4532e-04 - val_loss: 3.6290e-04\n",
            "Epoch 108/150\n",
            "305/305 [==============================] - 5s 18ms/step - loss: 3.7694e-04 - val_loss: 5.2063e-04\n",
            "Epoch 109/150\n",
            "305/305 [==============================] - 6s 19ms/step - loss: 4.3021e-04 - val_loss: 2.5807e-04\n",
            "Epoch 110/150\n",
            "305/305 [==============================] - 6s 18ms/step - loss: 3.7703e-04 - val_loss: 4.0591e-04\n",
            "Epoch 111/150\n",
            "305/305 [==============================] - 6s 19ms/step - loss: 3.5024e-04 - val_loss: 5.0543e-04\n",
            "Epoch 112/150\n",
            "305/305 [==============================] - 6s 18ms/step - loss: 3.8054e-04 - val_loss: 3.7786e-04\n",
            "Epoch 113/150\n",
            "305/305 [==============================] - 6s 18ms/step - loss: 3.6397e-04 - val_loss: 3.1831e-04\n",
            "Epoch 114/150\n",
            "305/305 [==============================] - 6s 19ms/step - loss: 3.9582e-04 - val_loss: 4.2675e-04\n",
            "Epoch 115/150\n",
            "305/305 [==============================] - 6s 20ms/step - loss: 3.4782e-04 - val_loss: 2.4373e-04\n",
            "Epoch 116/150\n",
            "305/305 [==============================] - 6s 19ms/step - loss: 3.7171e-04 - val_loss: 3.6507e-04\n",
            "Epoch 117/150\n",
            "305/305 [==============================] - 6s 18ms/step - loss: 3.8790e-04 - val_loss: 2.8567e-04\n",
            "Epoch 118/150\n",
            "305/305 [==============================] - 6s 18ms/step - loss: 3.7637e-04 - val_loss: 2.8659e-04\n",
            "Epoch 119/150\n",
            "305/305 [==============================] - 6s 18ms/step - loss: 3.3495e-04 - val_loss: 4.6109e-04\n",
            "Epoch 120/150\n",
            "305/305 [==============================] - 6s 18ms/step - loss: 3.4619e-04 - val_loss: 2.5151e-04\n",
            "Epoch 121/150\n",
            "305/305 [==============================] - 5s 18ms/step - loss: 3.4047e-04 - val_loss: 2.2713e-04\n",
            "Epoch 122/150\n",
            "305/305 [==============================] - 6s 19ms/step - loss: 2.9058e-04 - val_loss: 2.6214e-04\n",
            "Epoch 123/150\n",
            "305/305 [==============================] - 5s 18ms/step - loss: 3.8647e-04 - val_loss: 2.5208e-04\n",
            "Epoch 124/150\n",
            "305/305 [==============================] - 5s 18ms/step - loss: 3.3957e-04 - val_loss: 2.4620e-04\n",
            "Epoch 125/150\n",
            "305/305 [==============================] - 6s 19ms/step - loss: 3.7818e-04 - val_loss: 2.6241e-04\n",
            "Epoch 126/150\n",
            "305/305 [==============================] - 5s 18ms/step - loss: 3.0711e-04 - val_loss: 2.6825e-04\n",
            "Epoch 127/150\n",
            "305/305 [==============================] - 5s 18ms/step - loss: 3.2777e-04 - val_loss: 4.1286e-04\n",
            "Epoch 128/150\n",
            "305/305 [==============================] - 5s 18ms/step - loss: 3.0474e-04 - val_loss: 3.0093e-04\n",
            "Epoch 129/150\n",
            "305/305 [==============================] - 5s 18ms/step - loss: 3.2270e-04 - val_loss: 4.7667e-04\n",
            "Epoch 130/150\n",
            "305/305 [==============================] - 6s 18ms/step - loss: 3.3857e-04 - val_loss: 2.4413e-04\n",
            "Epoch 131/150\n",
            "305/305 [==============================] - 6s 19ms/step - loss: 3.3352e-04 - val_loss: 2.9701e-04\n",
            "Epoch 132/150\n",
            "305/305 [==============================] - 5s 18ms/step - loss: 3.5953e-04 - val_loss: 2.5250e-04\n",
            "Epoch 133/150\n",
            "305/305 [==============================] - 6s 18ms/step - loss: 3.3698e-04 - val_loss: 2.3118e-04\n",
            "Epoch 134/150\n",
            "305/305 [==============================] - 6s 18ms/step - loss: 2.8046e-04 - val_loss: 2.6535e-04\n",
            "Epoch 135/150\n",
            "305/305 [==============================] - 5s 18ms/step - loss: 3.1396e-04 - val_loss: 2.9163e-04\n",
            "Epoch 136/150\n",
            "305/305 [==============================] - 5s 18ms/step - loss: 2.8081e-04 - val_loss: 1.9523e-04\n",
            "Epoch 137/150\n",
            "305/305 [==============================] - 6s 18ms/step - loss: 3.1948e-04 - val_loss: 2.0995e-04\n",
            "Epoch 138/150\n",
            "305/305 [==============================] - 6s 19ms/step - loss: 2.8389e-04 - val_loss: 2.9266e-04\n",
            "Epoch 139/150\n",
            "305/305 [==============================] - 6s 18ms/step - loss: 2.9704e-04 - val_loss: 2.4186e-04\n",
            "Epoch 140/150\n",
            "305/305 [==============================] - 6s 19ms/step - loss: 2.8127e-04 - val_loss: 2.6714e-04\n",
            "Epoch 141/150\n",
            "305/305 [==============================] - 6s 19ms/step - loss: 3.0255e-04 - val_loss: 2.1628e-04\n",
            "Epoch 142/150\n",
            "305/305 [==============================] - 6s 19ms/step - loss: 2.8231e-04 - val_loss: 3.3062e-04\n",
            "Epoch 143/150\n",
            "305/305 [==============================] - 6s 18ms/step - loss: 3.0860e-04 - val_loss: 2.1225e-04\n",
            "Epoch 144/150\n",
            "305/305 [==============================] - 6s 19ms/step - loss: 2.6120e-04 - val_loss: 2.5136e-04\n",
            "Epoch 145/150\n",
            "305/305 [==============================] - 6s 19ms/step - loss: 2.7164e-04 - val_loss: 2.3420e-04\n",
            "Epoch 146/150\n",
            "305/305 [==============================] - 6s 19ms/step - loss: 3.1665e-04 - val_loss: 2.3958e-04\n",
            "Epoch 147/150\n",
            "305/305 [==============================] - 6s 18ms/step - loss: 2.7177e-04 - val_loss: 2.1101e-04\n",
            "Epoch 148/150\n",
            "305/305 [==============================] - 5s 18ms/step - loss: 2.8211e-04 - val_loss: 2.7732e-04\n",
            "Epoch 149/150\n",
            "305/305 [==============================] - 5s 17ms/step - loss: 2.6469e-04 - val_loss: 2.3607e-04\n",
            "Epoch 150/150\n",
            "305/305 [==============================] - 5s 18ms/step - loss: 2.7629e-04 - val_loss: 1.9746e-04\n"
          ],
          "name": "stdout"
        }
      ]
    },
    {
      "cell_type": "code",
      "metadata": {
        "id": "i6Mies2aqqPR",
        "colab": {
          "base_uri": "https://localhost:8080/"
        },
        "outputId": "7b9b9ea5-e5be-41ee-a86c-5d636d9b0152"
      },
      "source": [
        "#Saving the model\n",
        "file_name = 'Nifty'\n",
        "model.save(file_name)\n",
        "print(\"Saved model `{}` to disk\".format(file_name))\n"
      ],
      "execution_count": 57,
      "outputs": [
        {
          "output_type": "stream",
          "text": [
            "WARNING:absl:Found untraced functions such as lstm_cell_25_layer_call_and_return_conditional_losses, lstm_cell_25_layer_call_fn, lstm_cell_26_layer_call_and_return_conditional_losses, lstm_cell_26_layer_call_fn, lstm_cell_27_layer_call_and_return_conditional_losses while saving (showing 5 of 20). These functions will not be directly callable after loading.\n",
            "WARNING:absl:Found untraced functions such as lstm_cell_25_layer_call_and_return_conditional_losses, lstm_cell_25_layer_call_fn, lstm_cell_26_layer_call_and_return_conditional_losses, lstm_cell_26_layer_call_fn, lstm_cell_27_layer_call_and_return_conditional_losses while saving (showing 5 of 20). These functions will not be directly callable after loading.\n"
          ],
          "name": "stderr"
        },
        {
          "output_type": "stream",
          "text": [
            "INFO:tensorflow:Assets written to: Nifty/assets\n"
          ],
          "name": "stdout"
        },
        {
          "output_type": "stream",
          "text": [
            "INFO:tensorflow:Assets written to: Nifty/assets\n"
          ],
          "name": "stderr"
        },
        {
          "output_type": "stream",
          "text": [
            "Saved model `Nifty` to disk\n"
          ],
          "name": "stdout"
        }
      ]
    },
    {
      "cell_type": "code",
      "metadata": {
        "id": "MdMFuU30sRTC",
        "colab": {
          "base_uri": "https://localhost:8080/",
          "height": 592
        },
        "outputId": "f4d2fc97-0fca-4ce0-ba2b-020962007863"
      },
      "source": [
        "# Displaying the loss values.\n",
        "plt.figure(figsize = (15,10))\n",
        "plt.plot(history.history['loss'], label='loss')\n",
        "plt.plot(history.history['val_loss'], label='val_loss')\n",
        "plt.legend(loc='best')\n",
        "plt.show()"
      ],
      "execution_count": 58,
      "outputs": [
        {
          "output_type": "display_data",
          "data": {
            "image/png": "[encoded data removed]",
            "text/plain": [
              "<Figure size 1080x720 with 1 Axes>"
            ]
          },
          "metadata": {
            "tags": [],
            "needs_background": "light"
          }
        }
      ]
    },
    {
      "cell_type": "markdown",
      "metadata": {
        "id": "TSzIz-UcFfxf"
      },
      "source": [
        "# Creating samples for predicting the future value."
      ]
    },
    {
      "cell_type": "code",
      "metadata": {
        "id": "3h9W3bAQ0L3S"
      },
      "source": [
        "Xt = model.predict(X_test)"
      ],
      "execution_count": 59,
      "outputs": []
    },
    {
      "cell_type": "code",
      "metadata": {
        "id": "ddstNACD0UlW"
      },
      "source": [
        "division = len(array) - num_periods*foward_days\n",
        "\n",
        "leftover = division%foward_days+1\n",
        "\n",
        "array_test = array[division-look_back:]\n",
        "array_train = array[leftover:division]\n"
      ],
      "execution_count": 61,
      "outputs": []
    },
    {
      "cell_type": "code",
      "metadata": {
        "id": "IrqrHzS70ZR3"
      },
      "source": [
        "Xtrain,ytrain = processData(array_train,look_back,foward_days,foward_days)\n",
        "Xtest,ytest = processData(array_test,look_back,foward_days,foward_days)"
      ],
      "execution_count": 62,
      "outputs": []
    },
    {
      "cell_type": "code",
      "metadata": {
        "id": "ruGSQ2-W0btv"
      },
      "source": [
        "Xtrain = model.predict(Xtrain)\n",
        "Xtrain = Xtrain.ravel()\n",
        "\n",
        "Xtest = model.predict(Xtest)\n",
        "Xtest = Xtest.ravel()"
      ],
      "execution_count": 63,
      "outputs": []
    },
    {
      "cell_type": "code",
      "metadata": {
        "id": "NrPXregD0dlY"
      },
      "source": [
        "y = np.concatenate((ytrain, ytest), axis=0)"
      ],
      "execution_count": 64,
      "outputs": []
    },
    {
      "cell_type": "code",
      "metadata": {
        "id": "hGPnkoLs0iis",
        "colab": {
          "base_uri": "https://localhost:8080/"
        },
        "outputId": "ca1d3a4f-146d-4faf-e415-4693173f42cc"
      },
      "source": [
        "array[-5:]"
      ],
      "execution_count": 66,
      "outputs": [
        {
          "output_type": "execute_result",
          "data": {
            "text/plain": [
              "array([[0.9995845 , 0.99869097, 1.        ],\n",
              "       [1.        , 0.95253401, 0.96154005],\n",
              "       [0.97449561, 0.95791456, 0.97381267],\n",
              "       [0.98587858, 0.97886754, 0.98580943],\n",
              "       [0.99657354, 0.9959154 , 0.99748584]])"
            ]
          },
          "metadata": {
            "tags": []
          },
          "execution_count": 66
        }
      ]
    },
    {
      "cell_type": "code",
      "metadata": {
        "id": "bYWiWLH60t3v",
        "colab": {
          "base_uri": "https://localhost:8080/"
        },
        "outputId": "cc1a50fa-fa27-415e-92b2-3bde44109d74"
      },
      "source": [
        "scl.inverse_transform(array[-5:].reshape(-1,3))"
      ],
      "execution_count": 68,
      "outputs": [
        {
          "output_type": "execute_result",
          "data": {
            "text/plain": [
              "array([[13772.84960938, 13658.59960938, 13760.54980469],\n",
              "       [13777.5       , 13131.45019531, 13328.40039062],\n",
              "       [13492.04980469, 13192.90039062, 13466.29980469],\n",
              "       [13619.45019531, 13432.20019531, 13601.09960937],\n",
              "       [13739.15039062, 13626.90039063, 13732.29980469]])"
            ]
          },
          "metadata": {
            "tags": []
          },
          "execution_count": 68
        }
      ]
    },
    {
      "cell_type": "code",
      "metadata": {
        "id": "RpbC2g8W2zF9",
        "colab": {
          "base_uri": "https://localhost:8080/"
        },
        "outputId": "cab70513-e0b7-4989-c0cb-9795cad8f445"
      },
      "source": [
        "y_test.shape"
      ],
      "execution_count": 69,
      "outputs": [
        {
          "output_type": "execute_result",
          "data": {
            "text/plain": [
              "(20, 15)"
            ]
          },
          "metadata": {
            "tags": []
          },
          "execution_count": 69
        }
      ]
    },
    {
      "cell_type": "code",
      "metadata": {
        "id": "jZql46cC3GHA"
      },
      "source": [
        "Z = []\n",
        "Z.append(array[-40:])"
      ],
      "execution_count": 70,
      "outputs": []
    },
    {
      "cell_type": "code",
      "metadata": {
        "id": "GRND7x1r4P_5"
      },
      "source": [
        "Z  = np.array(Z)"
      ],
      "execution_count": 71,
      "outputs": []
    },
    {
      "cell_type": "code",
      "metadata": {
        "id": "AZlLDmYC4Qkb",
        "colab": {
          "base_uri": "https://localhost:8080/"
        },
        "outputId": "4e60f961-4742-4ee5-8faa-c73db893ee06"
      },
      "source": [
        "Z.shape"
      ],
      "execution_count": 72,
      "outputs": [
        {
          "output_type": "execute_result",
          "data": {
            "text/plain": [
              "(1, 40, 3)"
            ]
          },
          "metadata": {
            "tags": []
          },
          "execution_count": 72
        }
      ]
    },
    {
      "cell_type": "code",
      "metadata": {
        "id": "qis-cbdi4x55",
        "colab": {
          "base_uri": "https://localhost:8080/"
        },
        "outputId": "cc1983d2-9898-4519-efdd-74b399dd5315"
      },
      "source": [
        "out = model.predict(Z)"
      ],
      "execution_count": 73,
      "outputs": [
        {
          "output_type": "stream",
          "text": [
            "WARNING:tensorflow:Model was constructed with shape (None, 90, 3) for input KerasTensor(type_spec=TensorSpec(shape=(None, 90, 3), dtype=tf.float32, name='lstm_25_input'), name='lstm_25_input', description=\"created by layer 'lstm_25_input'\"), but it was called on an input with incompatible shape (None, 40, 3).\n"
          ],
          "name": "stdout"
        },
        {
          "output_type": "stream",
          "text": [
            "WARNING:tensorflow:Model was constructed with shape (None, 90, 3) for input KerasTensor(type_spec=TensorSpec(shape=(None, 90, 3), dtype=tf.float32, name='lstm_25_input'), name='lstm_25_input', description=\"created by layer 'lstm_25_input'\"), but it was called on an input with incompatible shape (None, 40, 3).\n"
          ],
          "name": "stderr"
        }
      ]
    },
    {
      "cell_type": "code",
      "metadata": {
        "id": "YHSfxn8w5BP5"
      },
      "source": [
        "out = out.ravel()"
      ],
      "execution_count": 74,
      "outputs": []
    },
    {
      "cell_type": "code",
      "metadata": {
        "id": "NDnxGfgm5CGI",
        "colab": {
          "base_uri": "https://localhost:8080/"
        },
        "outputId": "5dccb995-d6f1-4b38-b3bc-6963e69d7c97"
      },
      "source": [
        "out"
      ],
      "execution_count": 75,
      "outputs": [
        {
          "output_type": "execute_result",
          "data": {
            "text/plain": [
              "array([0.8650798 , 0.8673917 , 0.8626833 , 0.85894406, 0.8693032 ,\n",
              "       0.8559924 , 0.86190724, 0.86935836, 0.8652847 , 0.86238766,\n",
              "       0.8703971 , 0.8615149 , 0.85995543, 0.8638636 , 0.8590221 ],\n",
              "      dtype=float32)"
            ]
          },
          "metadata": {
            "tags": []
          },
          "execution_count": 75
        }
      ]
    },
    {
      "cell_type": "code",
      "metadata": {
        "id": "qyO5ucjK5Wqt",
        "colab": {
          "base_uri": "https://localhost:8080/"
        },
        "outputId": "76f40fda-d7e2-45f9-95bb-c4bad222cbf7"
      },
      "source": [
        "scl.inverse_transform(Z.reshape(-1,3))"
      ],
      "execution_count": 77,
      "outputs": [
        {
          "output_type": "execute_result",
          "data": {
            "text/plain": [
              "array([[11929.40039062, 11684.84960938, 11729.59960938],\n",
              "       [11744.15039063, 11606.45019531, 11670.79980469],\n",
              "       [11748.95019531, 11535.45019531, 11642.40039062],\n",
              "       [11725.65039063, 11557.40039062, 11669.15039062],\n",
              "       [11836.20019531, 11723.29980469, 11813.5       ],\n",
              "       [11929.65039062, 11756.40039062, 11908.5       ],\n",
              "       [12131.09960938, 12027.59960938, 12120.29980469],\n",
              "       [12280.40039062, 12131.84960938, 12263.54980469],\n",
              "       [12474.04980469, 12367.34960938, 12461.04980469],\n",
              "       [12643.90039062, 12475.25      , 12631.09960937],\n",
              "       [12769.75      , 12571.09960938, 12749.15039062],\n",
              "       [12741.15039062, 12624.84960938, 12690.79980469],\n",
              "       [12735.95019531, 12607.70019531, 12719.95019531],\n",
              "       [12934.04980469, 12797.09960938, 12874.20019531],\n",
              "       [12948.84960938, 12819.34960938, 12938.25      ],\n",
              "       [12963.        , 12745.75      , 12771.70019531],\n",
              "       [12892.45019531, 12730.25      , 12859.04980469],\n",
              "       [12968.84960938, 12825.70019531, 12926.45019531],\n",
              "       [13079.09960938, 12978.        , 13055.15039062],\n",
              "       [13145.84960938, 12833.65039062, 12858.40039062],\n",
              "       [13018.        , 12790.40039062, 12987.        ],\n",
              "       [13035.29980469, 12914.29980469, 12968.95019531],\n",
              "       [13128.40039062, 12962.79980469, 13109.04980469],\n",
              "       [13128.5       , 12983.54980469, 13113.75      ],\n",
              "       [13216.59960938, 13107.90039062, 13133.90039062],\n",
              "       [13280.04980469, 13152.84960938, 13258.54980469],\n",
              "       [13366.65039062, 13241.95019531, 13355.75      ],\n",
              "       [13435.45019531, 13311.04980469, 13392.95019531],\n",
              "       [13548.90039062, 13449.59960938, 13529.09960938],\n",
              "       [13503.54980469, 13399.29980469, 13478.29980469],\n",
              "       [13579.34960938, 13402.84960938, 13513.84960938],\n",
              "       [13597.5       , 13472.45019531, 13558.15039062],\n",
              "       [13589.65039063, 13447.04980469, 13567.84960938],\n",
              "       [13692.34960937, 13606.45019531, 13682.70019531],\n",
              "       [13773.25      , 13673.54980469, 13740.70019531],\n",
              "       [13772.84960938, 13658.59960938, 13760.54980469],\n",
              "       [13777.5       , 13131.45019531, 13328.40039062],\n",
              "       [13492.04980469, 13192.90039062, 13466.29980469],\n",
              "       [13619.45019531, 13432.20019531, 13601.09960937],\n",
              "       [13739.15039062, 13626.90039063, 13732.29980469]])"
            ]
          },
          "metadata": {
            "tags": []
          },
          "execution_count": 77
        }
      ]
    },
    {
      "cell_type": "code",
      "metadata": {
        "id": "lXR7nQTE5NO0",
        "colab": {
          "base_uri": "https://localhost:8080/"
        },
        "outputId": "cc2ff93f-764b-40fe-ba47-6d2b62f85789"
      },
      "source": [
        "scl.inverse_transform(out.reshape(-1,3))"
      ],
      "execution_count": 76,
      "outputs": [
        {
          "output_type": "execute_result",
          "data": {
            "text/plain": [
              "array([[12267.446, 12159.058, 12217.61 ],\n",
              "       [12198.773, 12180.889, 12142.43 ],\n",
              "       [12231.938, 12181.518, 12246.841],\n",
              "       [12237.315, 12193.381, 12204.482],\n",
              "       [12210.094, 12118.764, 12176.473]], dtype=float32)"
            ]
          },
          "metadata": {
            "tags": []
          },
          "execution_count": 76
        }
      ]
    }
  ]
}